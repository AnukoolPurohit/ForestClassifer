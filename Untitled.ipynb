{
 "cells": [
  {
   "cell_type": "code",
   "execution_count": null,
   "metadata": {},
   "outputs": [],
   "source": [
    "    \n",
    "   def save(self, filename):\n",
    "        \"\"\" Saving the trained model as a pickle in Models folder.\n",
    "        Parameters\n",
    "        ----------\n",
    "        filename: str\n",
    "            Name of pickle file.\n",
    "        \"\"\"\n",
    "\n",
    "        if not os.path.exists('Models'):\n",
    "            os.mkdir('Models')\n",
    "        torch.save(self.model.state_dict(), 'Models/'+filename)\n",
    "        return\n",
    "\n",
    "    def load(self, filename):\n",
    "        \"\"\" Loading a trained model from a pickle file in Models folder\n",
    "\n",
    "        Parameters\n",
    "        ----------\n",
    "        filename: str\n",
    "            Name of pickle file.\n",
    "        \"\"\"\n",
    "\n",
    "        self.model.load_state_dict(torch.load('Models/'+filename))\n",
    "        return\n",
    "\n",
    "    def predict_batch(self, batch):\n",
    "        \"\"\" Predicting outputs for a single batch. Used for Test set.\n",
    "        \"\"\"\n",
    "        self.freeze()\n",
    "        self.model.eval()\n",
    "        res = self.model(batch)\n",
    "        return res\n",
    "\n",
    "    def predict_test(self):\n",
    "        \"\"\" Predicting ouputs for the whole Test set.\n",
    "        \"\"\"\n",
    "        res = []\n",
    "        for x, _ in tqdm(self.data.test_dl):\n",
    "            res.append(self.predict_batch(x))\n",
    "        res = torch.cat(res)\n",
    "        return nn.Sigmoid()(res)\n"
   ]
  }
 ],
 "metadata": {
  "kernelspec": {
   "display_name": "Python 3",
   "language": "python",
   "name": "python3"
  },
  "language_info": {
   "codemirror_mode": {
    "name": "ipython",
    "version": 3
   },
   "file_extension": ".py",
   "mimetype": "text/x-python",
   "name": "python",
   "nbconvert_exporter": "python",
   "pygments_lexer": "ipython3",
   "version": "3.7.2"
  }
 },
 "nbformat": 4,
 "nbformat_minor": 2
}
